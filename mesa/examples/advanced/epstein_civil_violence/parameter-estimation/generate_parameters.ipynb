{
 "cells": [
  {
   "cell_type": "code",
   "execution_count": null,
   "id": "afcada6a",
   "metadata": {},
   "outputs": [],
   "source": [
    "import contextlib\n",
    "import os\n",
    "\n",
    "import pandas as pd\n",
    "from constants import distinct_samples, get_problem\n",
    "from SALib.sample.sobol import sample"
   ]
  },
  {
   "cell_type": "markdown",
   "id": "2ba0f61a",
   "metadata": {},
   "source": [
    "# Generate points\n",
    "This notebook will generate the parameter combinations used for Sobol global sensitivity analysis. \n",
    "\n",
    "Be sure to first set the right parameters in `constants.py`.\n",
    "\n",
    "The parameters will be saves in a folder with the name given in `output_dir`. `slice_size` can be used to split the parameter set into multiple files. This makes it easier to stop a run during measuring and resume later. "
   ]
  },
  {
   "cell_type": "code",
   "execution_count": null,
   "id": "b3462472",
   "metadata": {},
   "outputs": [],
   "source": [
    "# path to store the parameter samples in\n",
    "output_dir: str = \"inputs\"\n",
    "# the maximum amount of samples per file\n",
    "slice_size: int = 256"
   ]
  },
  {
   "cell_type": "code",
   "execution_count": null,
   "id": "246494ac",
   "metadata": {},
   "outputs": [],
   "source": [
    "problem = get_problem()\n",
    "\n",
    "params = sample(problem, distinct_samples)\n",
    "data = pd.DataFrame(params, columns=problem[\"names\"])\n",
    "\n",
    "with contextlib.suppress(FileExistsError):\n",
    "    os.mkdir(output_dir)\n",
    "\n",
    "# split the samples over multiple files\n",
    "x = 0\n",
    "pointer = 0\n",
    "while pointer + slice_size < len(data):\n",
    "    slice = data[pointer : pointer + slice_size]\n",
    "    slice.to_csv(f\"{output_dir}/data_{x:04}.csv\")\n",
    "    x += 1\n",
    "    pointer += slice_size\n",
    "\n",
    "slice = data[pointer:]\n",
    "slice.to_csv(f\"{output_dir}/data_{x:04}.csv\")"
   ]
  }
 ],
 "metadata": {
  "kernelspec": {
   "display_name": ".venv",
   "language": "python",
   "name": "python3"
  },
  "language_info": {
   "codemirror_mode": {
    "name": "ipython",
    "version": 3
   },
   "file_extension": ".py",
   "mimetype": "text/x-python",
   "name": "python",
   "nbconvert_exporter": "python",
   "pygments_lexer": "ipython3",
   "version": "3.13.4"
  }
 },
 "nbformat": 4,
 "nbformat_minor": 5
}
