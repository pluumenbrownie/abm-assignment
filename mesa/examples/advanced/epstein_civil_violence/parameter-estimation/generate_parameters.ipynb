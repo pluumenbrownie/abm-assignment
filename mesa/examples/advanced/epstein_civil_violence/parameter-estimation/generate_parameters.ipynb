{
 "cells": [
  {
   "cell_type": "code",
   "execution_count": 1,
   "id": "afcada6a",
   "metadata": {},
   "outputs": [],
   "source": [
    "import contextlib\n",
    "import os\n",
    "\n",
    "import pandas as pd\n",
    "from constants import distinct_samples\n",
    "from SALib.sample.sobol import sample\n",
    "\n",
    "from mesa.examples.advanced.epstein_civil_violence.agents import (\n",
    "    CitizenState,\n",
    ")"
   ]
  },
  {
   "cell_type": "markdown",
   "id": "2ba0f61a",
   "metadata": {},
   "source": [
    "# Generate points"
   ]
  },
  {
   "cell_type": "code",
   "execution_count": 2,
   "id": "246494ac",
   "metadata": {},
   "outputs": [],
   "source": [
    "param_tuples = [\n",
    "    (\"legitimacy\", [0.1, 1.0]),\n",
    "    (\"active_threshold\", [0.0, 0.9]),\n",
    "    (\"reversion_rate\", [0.0, 1.0]),\n",
    "    (\"prob_quiet\", [0.0, 0.5]),\n",
    "]\n",
    "\n",
    "param_names, param_bounds = zip(*param_tuples)\n",
    "param_names = list(param_names)\n",
    "param_bounds = list(param_bounds)\n",
    "\n",
    "problem = {\n",
    "    \"num_vars\": len(param_names),\n",
    "    \"names\": param_names,\n",
    "    \"bounds\": param_bounds,\n",
    "}\n",
    "\n",
    "model_reporters = {\n",
    "    \"active\": CitizenState.ACTIVE.name,\n",
    "    \"quiet\": CitizenState.QUIET.name,\n",
    "    \"arrested\": CitizenState.ARRESTED.name,\n",
    "}\n",
    "\n",
    "params = sample(problem, distinct_samples)\n",
    "data = pd.DataFrame(params, columns=param_names)\n",
    "\n",
    "with contextlib.suppress(FileExistsError):\n",
    "    os.mkdir(\"inputs_new\")\n",
    "\n",
    "x = 0\n",
    "pointer = 0\n",
    "slice_size = 256\n",
    "while pointer + slice_size < len(data):\n",
    "    slice = data[pointer : pointer + slice_size]\n",
    "    slice.to_csv(f\"inputs_new/data_{x:04}.csv\")\n",
    "    x += 1\n",
    "    pointer += slice_size\n",
    "\n",
    "slice = data[pointer:]\n",
    "slice.to_csv(f\"inputs_new/data_{x:04}.csv\")"
   ]
  }
 ],
 "metadata": {
  "kernelspec": {
   "display_name": ".venv",
   "language": "python",
   "name": "python3"
  },
  "language_info": {
   "codemirror_mode": {
    "name": "ipython",
    "version": 3
   },
   "file_extension": ".py",
   "mimetype": "text/x-python",
   "name": "python",
   "nbconvert_exporter": "python",
   "pygments_lexer": "ipython3",
   "version": "3.13.5"
  }
 },
 "nbformat": 4,
 "nbformat_minor": 5
}
