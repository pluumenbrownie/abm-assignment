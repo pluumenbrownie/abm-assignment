{
 "cells": [
  {
   "cell_type": "code",
   "execution_count": null,
   "id": "afcada6a",
   "metadata": {},
   "outputs": [],
   "source": [
    "import pandas as pd\n",
    "from constants import distinct_samples\n",
    "from SALib.sample.sobol import sample\n",
    "\n",
    "from mesa.examples.advanced.epstein_civil_violence.agents import (\n",
    "    CitizenState,\n",
    ")"
   ]
  },
  {
   "cell_type": "markdown",
   "id": "2ba0f61a",
   "metadata": {},
   "source": [
    "# Generate points"
   ]
  },
  {
   "cell_type": "code",
   "execution_count": null,
   "id": "246494ac",
   "metadata": {},
   "outputs": [
    {
     "name": "stdout",
     "output_type": "stream",
     "text": [
      "    legitimacy  active_threshold\n",
      "0     0.983783          0.276637\n",
      "1     0.718424          0.276637\n",
      "2     0.983783          0.296700\n",
      "3     0.983783          0.296700\n",
      "4     0.718424          0.276637\n",
      "5     0.718424          0.296700\n",
      "6     0.654459          0.034525\n",
      "7     0.801492          0.034525\n",
      "8     0.654459          0.144335\n",
      "9     0.654459          0.144335\n",
      "10    0.801492          0.034525\n",
      "11    0.801492          0.144335\n",
      "12    0.515733          0.406331\n",
      "13    0.559163          0.406331\n",
      "14    0.515733          0.388539\n",
      "15    0.515733          0.388539\n",
      "16    0.559163          0.406331\n",
      "17    0.559163          0.388539\n",
      "18    0.845040          0.148873\n",
      "19    0.960470          0.148873\n",
      "20    0.845040          0.052376\n",
      "21    0.845040          0.052376\n",
      "22    0.960470          0.148873\n",
      "23    0.960470          0.052376\n",
      "24    0.784504          0.462347\n",
      "25    0.863363          0.462347\n",
      "26    0.784504          0.100179\n",
      "27    0.784504          0.100179\n",
      "28    0.863363          0.462347\n",
      "29    0.863363          0.100179\n",
      "30    0.580182          0.216347\n",
      "31    0.655295          0.216347\n",
      "32    0.580182          0.494220\n",
      "33    0.580182          0.494220\n",
      "34    0.655295          0.216347\n",
      "35    0.655295          0.494220\n",
      "36    0.715019          0.331669\n",
      "37    0.897624          0.331669\n",
      "38    0.715019          0.253209\n",
      "39    0.715019          0.253209\n",
      "40    0.897624          0.331669\n",
      "41    0.897624          0.253209\n",
      "42    0.919327          0.101067\n",
      "43    0.621317          0.101067\n",
      "44    0.919327          0.341070\n",
      "45    0.919327          0.341070\n",
      "46    0.621317          0.101067\n",
      "47    0.621317          0.341070\n"
     ]
    }
   ],
   "source": [
    "param_names = [\"legitimacy\", \"active_threshold\"]\n",
    "param_bounds = [[0.5, 1.0], [0.01, 0.5]]\n",
    "\n",
    "problem = {\n",
    "    \"num_vars\": len(param_names),\n",
    "    \"names\": param_names,\n",
    "    \"bounds\": param_bounds,\n",
    "}\n",
    "\n",
    "model_reporters = {\n",
    "    \"active\": CitizenState.ACTIVE.name,\n",
    "    \"quiet\": CitizenState.QUIET.name,\n",
    "    \"arrested\": CitizenState.ARRESTED.name,\n",
    "}\n",
    "\n",
    "params = sample(problem, distinct_samples)\n",
    "data = pd.DataFrame(params, columns=param_names)\n",
    "\n",
    "data.to_csv(\"inputs/data.csv\")\n",
    "\n",
    "print(data)"
   ]
  }
 ],
 "metadata": {
  "kernelspec": {
   "display_name": ".venv",
   "language": "python",
   "name": "python3"
  },
  "language_info": {
   "codemirror_mode": {
    "name": "ipython",
    "version": 3
   },
   "file_extension": ".py",
   "mimetype": "text/x-python",
   "name": "python",
   "nbconvert_exporter": "python",
   "pygments_lexer": "ipython3",
   "version": "3.13.4"
  }
 },
 "nbformat": 4,
 "nbformat_minor": 5
}
