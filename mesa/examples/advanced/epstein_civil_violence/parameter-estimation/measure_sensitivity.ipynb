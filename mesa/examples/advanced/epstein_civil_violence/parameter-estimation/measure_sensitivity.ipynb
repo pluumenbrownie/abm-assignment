{
 "cells": [
  {
   "cell_type": "code",
   "execution_count": 1,
   "id": "d8647ba5",
   "metadata": {},
   "outputs": [],
   "source": [
    "import contextlib\n",
    "import os\n",
    "\n",
    "import numpy as np\n",
    "import pandas as pd\n",
    "from constants import max_steps, replicates\n",
    "\n",
    "from mesa.batchrunner import batch_run_not_stupid\n",
    "from mesa.examples.advanced.epstein_civil_violence.model import EpsteinCivilViolence"
   ]
  },
  {
   "cell_type": "code",
   "execution_count": null,
   "id": "9e53c793",
   "metadata": {},
   "outputs": [
    {
     "data": {
      "text/plain": [
       "['data_0003.csv']"
      ]
     },
     "execution_count": 2,
     "metadata": {},
     "output_type": "execute_result"
    }
   ],
   "source": [
    "files = [f\"data_{x:04}.csv\" for x in range(1, 3)]\n",
    "files"
   ]
  },
  {
   "cell_type": "code",
   "execution_count": 3,
   "id": "38507153",
   "metadata": {},
   "outputs": [],
   "source": [
    "def in_file(filename: str):\n",
    "    return f\"inputs/{filename}\"\n",
    "\n",
    "\n",
    "def out_file(filename: str):\n",
    "    return f\"outputs/{filename}\""
   ]
  },
  {
   "cell_type": "code",
   "execution_count": 4,
   "id": "015f95ce",
   "metadata": {},
   "outputs": [],
   "source": [
    "def run_for_file(filename: str):\n",
    "    data = pd.read_csv(in_file(filename), index_col=0)\n",
    "    print(f\"Loaded {len(data)} parameter samples.\")\n",
    "\n",
    "    result = batch_run_not_stupid(\n",
    "        EpsteinCivilViolence,\n",
    "        parameters=data,\n",
    "        iterations=replicates,\n",
    "        max_steps=max_steps,\n",
    "        number_processes=None,\n",
    "        display_progress=True,\n",
    "    )\n",
    "\n",
    "    ripley_police = np.zeros((len(result), len(result[0][\"ripley_l_police\"])))\n",
    "    ripley_citizen = np.zeros((len(result), len(result[0][\"ripley_l_citizen\"])))\n",
    "    for nr, res in enumerate(result):\n",
    "        ripley_police[nr] = res[\"ripley_l_police\"]\n",
    "        del res[\"ripley_l_police\"]\n",
    "        ripley_citizen[nr] = res[\"ripley_l_citizen\"]\n",
    "        del res[\"ripley_l_citizen\"]\n",
    "\n",
    "    result_df = pd.DataFrame(result)\n",
    "    with contextlib.suppress(FileExistsError):\n",
    "        os.mkdir(\"outputs\")\n",
    "    result_df.to_csv(out_file(filename))\n",
    "    np.save(out_file(f\"ripley_police_{filename}\"), ripley_police)\n",
    "    np.save(out_file(f\"ripley_citizen_{filename}\"), ripley_citizen)"
   ]
  },
  {
   "cell_type": "code",
   "execution_count": 5,
   "id": "7589bdc9",
   "metadata": {},
   "outputs": [
    {
     "name": "stdout",
     "output_type": "stream",
     "text": [
      "Loaded 5 parameter samples.\n"
     ]
    },
    {
     "data": {
      "application/vnd.jupyter.widget-view+json": {
       "model_id": "1809a52a447e429181de5dc0d15dd22b",
       "version_major": 2,
       "version_minor": 0
      },
      "text/plain": [
       "  0%|          | 0/500 [00:00<?, ?it/s]"
      ]
     },
     "metadata": {},
     "output_type": "display_data"
    }
   ],
   "source": [
    "for file in files:\n",
    "    run_for_file(file)"
   ]
  }
 ],
 "metadata": {
  "kernelspec": {
   "display_name": ".venv",
   "language": "python",
   "name": "python3"
  },
  "language_info": {
   "codemirror_mode": {
    "name": "ipython",
    "version": 3
   },
   "file_extension": ".py",
   "mimetype": "text/x-python",
   "name": "python",
   "nbconvert_exporter": "python",
   "pygments_lexer": "ipython3",
   "version": "3.13.4"
  }
 },
 "nbformat": 4,
 "nbformat_minor": 5
}
