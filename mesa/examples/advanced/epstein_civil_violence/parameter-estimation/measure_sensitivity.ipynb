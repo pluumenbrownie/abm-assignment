{
 "cells": [
  {
   "cell_type": "code",
   "execution_count": 6,
   "id": "d8647ba5",
   "metadata": {},
   "outputs": [],
   "source": [
    "import contextlib\n",
    "import os\n",
    "import string\n",
    "from random import choices\n",
    "\n",
    "import pandas as pd\n",
    "from constants import max_steps, replicates\n",
    "\n",
    "from mesa.batchrunner import batch_run_not_stupid\n",
    "from mesa.examples.advanced.epstein_civil_violence.model import EpsteinCivilViolence"
   ]
  },
  {
   "cell_type": "markdown",
   "id": "8a1d575b",
   "metadata": {},
   "source": [
    "# Measure the sensitivity\n",
    "This notebook is used to generate the data needed for the global sensitivity analysis. \n",
    "\n",
    "Be sure to first set the correct parameters in `constants.py` and to generate the parameter samples with `generate_parameters.ipynb`.\n",
    "\n",
    "The parameter samples will be loaded from the folder given in `input_dir` and measurements will be saved to a folder given in `outputs_new`. Output files will be prefixed by an unique identifier to distinguish different runs.\n",
    "\n",
    "The last cell in this notebook can be ran until ~~you are bored~~ enough data has been collected."
   ]
  },
  {
   "cell_type": "code",
   "execution_count": null,
   "id": "9e53c793",
   "metadata": {},
   "outputs": [
    {
     "data": {
      "text/plain": [
       "['data_0000.csv',\n",
       " 'data_0001.csv',\n",
       " 'data_0002.csv',\n",
       " 'data_0003.csv',\n",
       " 'data_0004.csv',\n",
       " 'data_0005.csv',\n",
       " 'data_0006.csv',\n",
       " 'data_0007.csv',\n",
       " 'data_0008.csv',\n",
       " 'data_0009.csv',\n",
       " 'data_0010.csv',\n",
       " 'data_0011.csv',\n",
       " 'data_0012.csv',\n",
       " 'data_0013.csv',\n",
       " 'data_0014.csv',\n",
       " 'data_0015.csv',\n",
       " 'data_0016.csv',\n",
       " 'data_0017.csv',\n",
       " 'data_0018.csv',\n",
       " 'data_0019.csv']"
      ]
     },
     "execution_count": 7,
     "metadata": {},
     "output_type": "execute_result"
    }
   ],
   "source": [
    "# the folder containing the parameter samples\n",
    "input_dir: str = \"inputs\"\n",
    "# the folder to save the measurement results to\n",
    "output_dir: str = \"outputs\"\n",
    "\n",
    "# must be set to include all of the desired input files\n",
    "# to resume a previous run, set `start` to nonzero value\n",
    "start: int = 0\n",
    "end: int = 20\n",
    "\n",
    "files = [f\"data_{x:04}.csv\" for x in range(start, end)]\n",
    "files"
   ]
  },
  {
   "cell_type": "code",
   "execution_count": 8,
   "id": "38507153",
   "metadata": {},
   "outputs": [],
   "source": [
    "def in_file(filename: str):\n",
    "    \"\"\"Generates the path to the given input file.\n",
    "    Args:\n",
    "        filename: the name of the file\"\"\"\n",
    "    return f\"{input_dir}/{filename}\"\n",
    "\n",
    "\n",
    "def out_file(filename: str, identifier: str):\n",
    "    \"\"\"Generates the path to the given output file.\n",
    "    Args:\n",
    "        filename: the name of the file.\n",
    "        identifier: an unique identifier string add to the front of the name of\n",
    "            the new file\"\"\"\n",
    "    return f\"{output_dir}/{identifier}_{filename}\""
   ]
  },
  {
   "cell_type": "code",
   "execution_count": 9,
   "id": "015f95ce",
   "metadata": {},
   "outputs": [],
   "source": [
    "def run_for_file(filename: str, identifier: str):\n",
    "    \"\"\"\n",
    "    Calculate and save the results of simulations with the parameters in the file.\n",
    "    Args:\n",
    "        filename: the name of the parameter file\n",
    "        identifier: an unique identifier to use when saving the results\n",
    "    \"\"\"\n",
    "    data = pd.read_csv(in_file(filename), index_col=0)\n",
    "    print(f\"Loaded {filename} with {len(data)} parameter samples.\")\n",
    "\n",
    "    result = batch_run_not_stupid(\n",
    "        EpsteinCivilViolence,\n",
    "        parameters=data,\n",
    "        iterations=replicates,\n",
    "        max_steps=max_steps,\n",
    "        number_processes=None,\n",
    "        display_progress=True,\n",
    "    )\n",
    "\n",
    "    result_df = pd.DataFrame(result)\n",
    "\n",
    "    # we just want the folder to exist\n",
    "    with contextlib.suppress(FileExistsError):\n",
    "        os.mkdir(output_dir)\n",
    "    result_df.to_csv(out_file(filename, identifier))"
   ]
  },
  {
   "cell_type": "code",
   "execution_count": null,
   "id": "7589bdc9",
   "metadata": {},
   "outputs": [],
   "source": [
    "while True:\n",
    "    identifier = \"\".join(choices(string.ascii_letters + string.digits, k=8))\n",
    "    print(f\"Starting run {identifier}.\")\n",
    "    for file in files:\n",
    "        run_for_file(file, identifier)"
   ]
  }
 ],
 "metadata": {
  "kernelspec": {
   "display_name": ".venv",
   "language": "python",
   "name": "python3"
  },
  "language_info": {
   "codemirror_mode": {
    "name": "ipython",
    "version": 3
   },
   "file_extension": ".py",
   "mimetype": "text/x-python",
   "name": "python",
   "nbconvert_exporter": "python",
   "pygments_lexer": "ipython3",
   "version": "3.13.4"
  }
 },
 "nbformat": 4,
 "nbformat_minor": 5
}
