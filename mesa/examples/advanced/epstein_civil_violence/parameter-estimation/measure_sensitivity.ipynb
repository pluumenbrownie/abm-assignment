{
 "cells": [
  {
   "cell_type": "code",
   "execution_count": null,
   "id": "d8647ba5",
   "metadata": {},
   "outputs": [],
   "source": [
    "import contextlib\n",
    "import os\n",
    "\n",
    "import pandas as pd\n",
    "from constants import max_steps, replicates\n",
    "\n",
    "from mesa.batchrunner import batch_run_not_stupid\n",
    "from mesa.examples.advanced.epstein_civil_violence.model import EpsteinCivilViolence\n",
    "\n",
    "contextlib.suppress(FileExistsError)"
   ]
  },
  {
   "cell_type": "code",
   "execution_count": 2,
   "id": "38507153",
   "metadata": {},
   "outputs": [],
   "source": [
    "filename = \"data.csv\"\n",
    "in_file = f\"inputs/{filename}\"\n",
    "out_file = f\"outputs/{filename}\""
   ]
  },
  {
   "cell_type": "code",
   "execution_count": null,
   "id": "015f95ce",
   "metadata": {},
   "outputs": [
    {
     "name": "stdout",
     "output_type": "stream",
     "text": [
      "Loaded 256 parameter samples.\n"
     ]
    },
    {
     "data": {
      "application/vnd.jupyter.widget-view+json": {
       "model_id": "6720d487de0e4ce689b45159ac301711",
       "version_major": 2,
       "version_minor": 0
      },
      "text/plain": [
       "  0%|          | 0/2560 [00:00<?, ?it/s]"
      ]
     },
     "metadata": {},
     "output_type": "display_data"
    }
   ],
   "source": [
    "data = pd.read_csv(in_file, index_col=0)\n",
    "print(f\"Loaded {len(data)} parameter samples.\")\n",
    "\n",
    "result = batch_run_not_stupid(\n",
    "    EpsteinCivilViolence,\n",
    "    parameters=data,\n",
    "    iterations=replicates,\n",
    "    max_steps=max_steps,\n",
    "    number_processes=None,\n",
    "    display_progress=True,\n",
    ")\n",
    "\n",
    "result_df = pd.DataFrame(result)\n",
    "os.mkdir(\"outputs\")\n",
    "result_df.to_csv(out_file)"
   ]
  }
 ],
 "metadata": {
  "kernelspec": {
   "display_name": ".venv",
   "language": "python",
   "name": "python3"
  },
  "language_info": {
   "codemirror_mode": {
    "name": "ipython",
    "version": 3
   },
   "file_extension": ".py",
   "mimetype": "text/x-python",
   "name": "python",
   "nbconvert_exporter": "python",
   "pygments_lexer": "ipython3",
   "version": "3.13.4"
  }
 },
 "nbformat": 4,
 "nbformat_minor": 5
}
