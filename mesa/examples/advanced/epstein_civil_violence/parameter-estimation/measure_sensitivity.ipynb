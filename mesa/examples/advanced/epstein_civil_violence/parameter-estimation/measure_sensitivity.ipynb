{
 "cells": [
  {
   "cell_type": "code",
   "execution_count": 1,
   "id": "d8647ba5",
   "metadata": {},
   "outputs": [],
   "source": [
    "import contextlib\n",
    "import os\n",
    "\n",
    "import pandas as pd\n",
    "from constants import max_steps, replicates\n",
    "\n",
    "from mesa.batchrunner import batch_run_not_stupid\n",
    "from mesa.examples.advanced.epstein_civil_violence.model import EpsteinCivilViolence"
   ]
  },
  {
   "cell_type": "code",
   "execution_count": 2,
   "id": "9e53c793",
   "metadata": {},
   "outputs": [
    {
     "data": {
      "text/plain": [
       "['data_0000.csv']"
      ]
     },
     "execution_count": 2,
     "metadata": {},
     "output_type": "execute_result"
    }
   ],
   "source": [
    "files = [f\"data_{x:04}.csv\" for x in range(1)]\n",
    "files"
   ]
  },
  {
   "cell_type": "code",
   "execution_count": 3,
   "id": "38507153",
   "metadata": {},
   "outputs": [],
   "source": [
    "def in_file(filename: str):\n",
    "    return f\"inputs/{filename}\"\n",
    "\n",
    "\n",
    "def out_file(filename: str):\n",
    "    return f\"outputs/{filename}\""
   ]
  },
  {
   "cell_type": "code",
   "execution_count": 4,
   "id": "015f95ce",
   "metadata": {},
   "outputs": [],
   "source": [
    "def run_for_file(filename: str):\n",
    "    data = pd.read_csv(in_file(filename), index_col=0)\n",
    "    print(f\"Loaded {len(data)} parameter samples.\")\n",
    "\n",
    "    result = batch_run_not_stupid(\n",
    "        EpsteinCivilViolence,\n",
    "        parameters=data,\n",
    "        iterations=replicates,\n",
    "        max_steps=max_steps,\n",
    "        number_processes=None,\n",
    "        display_progress=True,\n",
    "    )\n",
    "\n",
    "    result_df = pd.DataFrame(result)\n",
    "    with contextlib.suppress(FileExistsError):\n",
    "        os.mkdir(\"outputs\")\n",
    "    result_df.to_csv(out_file(filename))"
   ]
  },
  {
   "cell_type": "code",
   "execution_count": 5,
   "id": "7589bdc9",
   "metadata": {},
   "outputs": [
    {
     "name": "stdout",
     "output_type": "stream",
     "text": [
      "Loaded 1024 parameter samples.\n"
     ]
    },
    {
     "data": {
      "application/vnd.jupyter.widget-view+json": {
       "model_id": "d941901235ed431aa3e1ced20109cf6c",
       "version_major": 2,
       "version_minor": 0
      },
      "text/plain": [
       "  0%|          | 0/102400 [00:00<?, ?it/s]"
      ]
     },
     "metadata": {},
     "output_type": "display_data"
    },
    {
     "ename": "TypeError",
     "evalue": "EpsteinCivilViolence.__init__() got an unexpected keyword argument 'reversion_rate'",
     "output_type": "error",
     "traceback": [
      "\u001b[31m---------------------------------------------------------------------------\u001b[39m",
      "\u001b[31mRemoteTraceback\u001b[39m                           Traceback (most recent call last)",
      "\u001b[31mRemoteTraceback\u001b[39m: \n\"\"\"\nTraceback (most recent call last):\n  File \"/home/wessel/.local/share/uv/python/cpython-3.13.4-linux-x86_64-gnu/lib/python3.13/multiprocessing/pool.py\", line 125, in worker\n    result = (True, func(*args, **kwds))\n                    ~~~~^^^^^^^^^^^^^^^\n  File \"/home/wessel/Documents/external_repos/abm-assignment/mesa/batchrunner.py\", line 264, in _model_run_func\n    model = model_cls(**kwargs)\nTypeError: EpsteinCivilViolence.__init__() got an unexpected keyword argument 'reversion_rate'\n\"\"\"",
      "\nThe above exception was the direct cause of the following exception:\n",
      "\u001b[31mTypeError\u001b[39m                                 Traceback (most recent call last)",
      "\u001b[36mCell\u001b[39m\u001b[36m \u001b[39m\u001b[32mIn[5]\u001b[39m\u001b[32m, line 2\u001b[39m\n\u001b[32m      1\u001b[39m \u001b[38;5;28;01mfor\u001b[39;00m file \u001b[38;5;129;01min\u001b[39;00m files:\n\u001b[32m----> \u001b[39m\u001b[32m2\u001b[39m     \u001b[43mrun_for_file\u001b[49m\u001b[43m(\u001b[49m\u001b[43mfile\u001b[49m\u001b[43m)\u001b[49m\n",
      "\u001b[36mCell\u001b[39m\u001b[36m \u001b[39m\u001b[32mIn[4]\u001b[39m\u001b[32m, line 5\u001b[39m, in \u001b[36mrun_for_file\u001b[39m\u001b[34m(filename)\u001b[39m\n\u001b[32m      2\u001b[39m data = pd.read_csv(in_file(filename), index_col=\u001b[32m0\u001b[39m)\n\u001b[32m      3\u001b[39m \u001b[38;5;28mprint\u001b[39m(\u001b[33mf\u001b[39m\u001b[33m\"\u001b[39m\u001b[33mLoaded \u001b[39m\u001b[38;5;132;01m{\u001b[39;00m\u001b[38;5;28mlen\u001b[39m(data)\u001b[38;5;132;01m}\u001b[39;00m\u001b[33m parameter samples.\u001b[39m\u001b[33m\"\u001b[39m)\n\u001b[32m----> \u001b[39m\u001b[32m5\u001b[39m result = \u001b[43mbatch_run_not_stupid\u001b[49m\u001b[43m(\u001b[49m\n\u001b[32m      6\u001b[39m \u001b[43m    \u001b[49m\u001b[43mEpsteinCivilViolence\u001b[49m\u001b[43m,\u001b[49m\n\u001b[32m      7\u001b[39m \u001b[43m    \u001b[49m\u001b[43mparameters\u001b[49m\u001b[43m=\u001b[49m\u001b[43mdata\u001b[49m\u001b[43m,\u001b[49m\n\u001b[32m      8\u001b[39m \u001b[43m    \u001b[49m\u001b[43miterations\u001b[49m\u001b[43m=\u001b[49m\u001b[43mreplicates\u001b[49m\u001b[43m,\u001b[49m\n\u001b[32m      9\u001b[39m \u001b[43m    \u001b[49m\u001b[43mmax_steps\u001b[49m\u001b[43m=\u001b[49m\u001b[43mmax_steps\u001b[49m\u001b[43m,\u001b[49m\n\u001b[32m     10\u001b[39m \u001b[43m    \u001b[49m\u001b[43mnumber_processes\u001b[49m\u001b[43m=\u001b[49m\u001b[38;5;28;43;01mNone\u001b[39;49;00m\u001b[43m,\u001b[49m\n\u001b[32m     11\u001b[39m \u001b[43m    \u001b[49m\u001b[43mdisplay_progress\u001b[49m\u001b[43m=\u001b[49m\u001b[38;5;28;43;01mTrue\u001b[39;49;00m\u001b[43m,\u001b[49m\n\u001b[32m     12\u001b[39m \u001b[43m\u001b[49m\u001b[43m)\u001b[49m\n\u001b[32m     14\u001b[39m result_df = pd.DataFrame(result)\n\u001b[32m     15\u001b[39m \u001b[38;5;28;01mwith\u001b[39;00m contextlib.suppress(\u001b[38;5;167;01mFileExistsError\u001b[39;00m):\n",
      "\u001b[36mFile \u001b[39m\u001b[32m~/Documents/external_repos/abm-assignment/mesa/batchrunner.py:92\u001b[39m, in \u001b[36mbatch_run_not_stupid\u001b[39m\u001b[34m(model_cls, parameters, number_processes, iterations, data_collection_period, max_steps, display_progress)\u001b[39m\n\u001b[32m     89\u001b[39m     results = []\n\u001b[32m     90\u001b[39m     \u001b[38;5;28;01mfor\u001b[39;00m iteration \u001b[38;5;129;01min\u001b[39;00m runs_list:\n\u001b[32m     91\u001b[39m         results.extend(\n\u001b[32m---> \u001b[39m\u001b[32m92\u001b[39m             \u001b[43m_inner_not_stupid\u001b[49m\u001b[43m(\u001b[49m\n\u001b[32m     93\u001b[39m \u001b[43m                \u001b[49m\u001b[43mmodel_cls\u001b[49m\u001b[43m,\u001b[49m\n\u001b[32m     94\u001b[39m \u001b[43m                \u001b[49m\u001b[43mnumber_processes\u001b[49m\u001b[43m,\u001b[49m\n\u001b[32m     95\u001b[39m \u001b[43m                \u001b[49m\u001b[43mdata_collection_period\u001b[49m\u001b[43m,\u001b[49m\n\u001b[32m     96\u001b[39m \u001b[43m                \u001b[49m\u001b[43mmax_steps\u001b[49m\u001b[43m,\u001b[49m\n\u001b[32m     97\u001b[39m \u001b[43m                \u001b[49m\u001b[43mpbar\u001b[49m\u001b[43m,\u001b[49m\n\u001b[32m     98\u001b[39m \u001b[43m                \u001b[49m\u001b[43miteration\u001b[49m\u001b[43m,\u001b[49m\n\u001b[32m     99\u001b[39m \u001b[43m            \u001b[49m\u001b[43m)\u001b[49m\n\u001b[32m    100\u001b[39m         )\n\u001b[32m    102\u001b[39m \u001b[38;5;28;01mreturn\u001b[39;00m results\n",
      "\u001b[36mFile \u001b[39m\u001b[32m~/Documents/external_repos/abm-assignment/mesa/batchrunner.py:130\u001b[39m, in \u001b[36m_inner_not_stupid\u001b[39m\u001b[34m(model_cls, number_processes, data_collection_period, max_steps, pbar, runs_list)\u001b[39m\n\u001b[32m    128\u001b[39m \u001b[38;5;28;01melse\u001b[39;00m:\n\u001b[32m    129\u001b[39m     \u001b[38;5;28;01mwith\u001b[39;00m Pool(number_processes) \u001b[38;5;28;01mas\u001b[39;00m p:\n\u001b[32m--> \u001b[39m\u001b[32m130\u001b[39m \u001b[43m        \u001b[49m\u001b[38;5;28;43;01mfor\u001b[39;49;00m\u001b[43m \u001b[49m\u001b[43mdata\u001b[49m\u001b[43m \u001b[49m\u001b[38;5;129;43;01min\u001b[39;49;00m\u001b[43m \u001b[49m\u001b[43mp\u001b[49m\u001b[43m.\u001b[49m\u001b[43mimap_unordered\u001b[49m\u001b[43m(\u001b[49m\u001b[43mprocess_func\u001b[49m\u001b[43m,\u001b[49m\u001b[43m \u001b[49m\u001b[43mruns_list\u001b[49m\u001b[43m)\u001b[49m\u001b[43m:\u001b[49m\n\u001b[32m    131\u001b[39m \u001b[43m            \u001b[49m\u001b[43mresults\u001b[49m\u001b[43m.\u001b[49m\u001b[43mextend\u001b[49m\u001b[43m(\u001b[49m\u001b[43mdata\u001b[49m\u001b[43m)\u001b[49m\n\u001b[32m    132\u001b[39m \u001b[43m            \u001b[49m\u001b[43mpbar\u001b[49m\u001b[43m.\u001b[49m\u001b[43mupdate\u001b[49m\u001b[43m(\u001b[49m\u001b[43m)\u001b[49m\n",
      "\u001b[36mFile \u001b[39m\u001b[32m~/.local/share/uv/python/cpython-3.13.4-linux-x86_64-gnu/lib/python3.13/multiprocessing/pool.py:873\u001b[39m, in \u001b[36mIMapIterator.next\u001b[39m\u001b[34m(self, timeout)\u001b[39m\n\u001b[32m    871\u001b[39m \u001b[38;5;28;01mif\u001b[39;00m success:\n\u001b[32m    872\u001b[39m     \u001b[38;5;28;01mreturn\u001b[39;00m value\n\u001b[32m--> \u001b[39m\u001b[32m873\u001b[39m \u001b[38;5;28;01mraise\u001b[39;00m value\n",
      "\u001b[31mTypeError\u001b[39m: EpsteinCivilViolence.__init__() got an unexpected keyword argument 'reversion_rate'"
     ]
    }
   ],
   "source": [
    "for file in files:\n",
    "    run_for_file(file)"
   ]
  }
 ],
 "metadata": {
  "kernelspec": {
   "display_name": ".venv",
   "language": "python",
   "name": "python3"
  },
  "language_info": {
   "codemirror_mode": {
    "name": "ipython",
    "version": 3
   },
   "file_extension": ".py",
   "mimetype": "text/x-python",
   "name": "python",
   "nbconvert_exporter": "python",
   "pygments_lexer": "ipython3",
   "version": "3.13.4"
  }
 },
 "nbformat": 4,
 "nbformat_minor": 5
}
